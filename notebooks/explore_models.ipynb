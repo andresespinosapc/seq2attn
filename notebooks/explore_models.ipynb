{
 "cells": [
  {
   "cell_type": "code",
   "execution_count": 1,
   "metadata": {
    "ExecuteTime": {
     "end_time": "2020-01-14T15:05:53.570261Z",
     "start_time": "2020-01-14T15:05:53.564811Z"
    }
   },
   "outputs": [],
   "source": [
    "import sys\n",
    "import os\n",
    "sys.path.insert(0, os.path.abspath('../'))"
   ]
  },
  {
   "cell_type": "code",
   "execution_count": 2,
   "metadata": {
    "ExecuteTime": {
     "end_time": "2020-01-14T15:06:02.135461Z",
     "start_time": "2020-01-14T15:05:53.573313Z"
    }
   },
   "outputs": [
    {
     "name": "stdout",
     "output_type": "stream",
     "text": [
      "no display found. Using non-interactive Agg backend\n"
     ]
    }
   ],
   "source": [
    "import re\n",
    "import torch\n",
    "import seaborn as sns\n",
    "\n",
    "from machine.util.checkpoint import Checkpoint\n",
    "from machine.dataset import SourceField, TargetField, get_standard_iter"
   ]
  },
  {
   "cell_type": "code",
   "execution_count": 3,
   "metadata": {
    "ExecuteTime": {
     "end_time": "2020-01-14T15:06:02.634343Z",
     "start_time": "2020-01-14T15:06:02.137863Z"
    }
   },
   "outputs": [],
   "source": [
    "checkpoint_path = '../../models/b9da0a07f7e442afbc0e70345111998d/s8760'\n",
    "checkpoint = Checkpoint.load(checkpoint_path)\n",
    "seq2seq = checkpoint.model\n",
    "seq2seq.eval()\n",
    "input_vocab = checkpoint.input_vocab\n",
    "output_vocab = checkpoint.output_vocab"
   ]
  },
  {
   "cell_type": "code",
   "execution_count": 4,
   "metadata": {
    "ExecuteTime": {
     "end_time": "2020-01-14T15:06:02.641152Z",
     "start_time": "2020-01-14T15:06:02.636495Z"
    }
   },
   "outputs": [
    {
     "name": "stderr",
     "output_type": "stream",
     "text": [
      "Option batch_first has to be set to use machine.  Changed to True.\n"
     ]
    }
   ],
   "source": [
    "output_eos_used = True\n",
    "src = SourceField()\n",
    "tgt = TargetField(output_eos_used)\n",
    "\n",
    "tabular_data_fields = [('src', src), ('tgt', tgt)]\n",
    "\n",
    "src.vocab = input_vocab\n",
    "tgt.vocab = output_vocab\n",
    "tgt.eos_id = tgt.vocab.stoi[tgt.SYM_EOS]\n",
    "tgt.sos_id = tgt.vocab.stoi[tgt.SYM_SOS]\n",
    "max_len = 50"
   ]
  },
  {
   "cell_type": "code",
   "execution_count": 5,
   "metadata": {
    "ExecuteTime": {
     "end_time": "2020-01-14T15:06:02.651371Z",
     "start_time": "2020-01-14T15:06:02.642491Z"
    }
   },
   "outputs": [
    {
     "name": "stdout",
     "output_type": "stream",
     "text": [
      "Input vocab: ['<unk>', '<pad>', 'left', 'right', 'thrice', 'twice', 'around', 'opposite', 'after', 'and', 'jump', 'look', 'run', 'walk', 'turn']\n",
      "Output vocab: ['<unk>', '<pad>', 'I_TURN_RIGHT', 'I_TURN_LEFT', 'I_JUMP', 'I_LOOK', 'I_RUN', 'I_WALK', '<eos>', '<sos>']\n"
     ]
    }
   ],
   "source": [
    "print('Input vocab:', list(src.vocab.itos))\n",
    "print('Output vocab:', list(tgt.vocab.itos))"
   ]
  },
  {
   "cell_type": "code",
   "execution_count": 6,
   "metadata": {
    "ExecuteTime": {
     "end_time": "2020-01-14T15:06:02.946645Z",
     "start_time": "2020-01-14T15:06:02.653337Z"
    }
   },
   "outputs": [
    {
     "name": "stdout",
     "output_type": "stream",
     "text": [
      "Output: I_TURN_LEFT I_TURN_LEFT I_TURN_LEFT I_TURN_LEFT\n"
     ]
    },
    {
     "data": {
      "image/png": "[encoded data removed]",
      "text/plain": [
       "<Figure size 432x288 with 2 Axes>"
      ]
     },
     "metadata": {
      "needs_background": "light"
     },
     "output_type": "display_data"
    }
   ],
   "source": [
    "input_text = 'turn left thrice'\n",
    "input_text_split = input_text.split()\n",
    "input_variable, input_lengths = src.process([input_text_split])\n",
    "target_variable = {}\n",
    "with torch.no_grad():\n",
    "    decoder_outputs, decoder_hidden, other = seq2seq(input_variable, input_lengths, target_variable)\n",
    "    \n",
    "output_words_idxs = torch.cat(decoder_outputs).argmax(1)\n",
    "output_words = [tgt.vocab.itos[i] for i in output_words_idxs]\n",
    "output_text = ' '.join(output_words)\n",
    "output_text = re.sub(r'( <eos>)*$', '', output_text)\n",
    "print('Output:', output_text)\n",
    "\n",
    "attn = torch.cat(other['attention_score']).squeeze(1)\n",
    "n_tokens = len(output_text.split())\n",
    "attn = attn[:n_tokens]\n",
    "ax = sns.heatmap(attn, cmap=\"Blues\", xticklabels=input_text_split)\n",
    "_ = ax.set(title='Decoder Attention', xlabel='word', ylabel='step')"
   ]
  }
 ],
 "metadata": {
  "kernelspec": {
   "display_name": "Python 3",
   "language": "python",
   "name": "python3"
  },
  "language_info": {
   "codemirror_mode": {
    "name": "ipython",
    "version": 3
   },
   "file_extension": ".py",
   "mimetype": "text/x-python",
   "name": "python",
   "nbconvert_exporter": "python",
   "pygments_lexer": "ipython3",
   "version": "3.6.8"
  }
 },
 "nbformat": 4,
 "nbformat_minor": 2
}
